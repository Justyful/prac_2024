{
 "cells": [
  {
   "cell_type": "code",
   "execution_count": 312,
   "id": "dcd1bc78-a5dc-4d00-b40c-8786dba41916",
   "metadata": {},
   "outputs": [],
   "source": [
    "import numpy as np\n",
    "from scipy.linalg import eigh_tridiagonal\n",
    "from itertools import combinations"
   ]
  },
  {
   "cell_type": "code",
   "execution_count": 354,
   "id": "591f07bc-e6bc-490c-9c33-e1c386c0568b",
   "metadata": {},
   "outputs": [],
   "source": [
    "class poly:\n",
    "\n",
    "    def __init__(self, n, coefs):\n",
    "        if (n != len(coefs)):\n",
    "            print(f'error {n=} != {len(coefs)}')\n",
    "        self.n = n\n",
    "        self.coefs = list(coefs)\n",
    "\n",
    "    def __len__(self):\n",
    "        return self.n\n",
    "\n",
    "    def __getitem__(self, i):\n",
    "        return self.coefs[i]\n",
    "\n",
    "    def __call__(self, x):\n",
    "        res = self.coefs[0]\n",
    "        running = x\n",
    "        for i in range(1, self.n + 1):\n",
    "            res += self.coefs[i] * running\n",
    "            running *= x\n",
    "        return res\n",
    "\n",
    "    def __str__(self):\n",
    "        s = ''\n",
    "        for i in range(self.n):\n",
    "            s += f'{self[self.n-i-1]:.2f}*x^{self.n-i-1} + '\n",
    "        return s[:-3]\n",
    "\n",
    "    def __mul__(self, other):\n",
    "        if isinstance(other, (int, float, complex)):\n",
    "            new_coef = []\n",
    "            for i in range(self.n):\n",
    "                new_coef.append(self[i] * other)\n",
    "            return poly(self.n, new_coef)\n",
    "        elif isinstance(other, self.__class__):\n",
    "            pass\n",
    "        else:\n",
    "            print(f'dont know how to multiple {type(other)} :(')\n",
    "        return 0\n",
    "\n",
    "    def times_x(self):\n",
    "        new_coef = [0] + self.coefs\n",
    "        return poly(self.n + 1, new_coef)\n",
    "\n",
    "    def __add__(self, other):\n",
    "        if isinstance(other, self.__class__):\n",
    "            new_coef = self.coefs.copy()\n",
    "            self_longer = False\n",
    "            for i in range(self.n):\n",
    "                try:\n",
    "                    new_coef[i] += other[i]\n",
    "                except IndexError:\n",
    "                    self_longer = True\n",
    "                    break\n",
    "            if not self_longer:\n",
    "                for i in range(len(new_coef), len(other)):\n",
    "                    new_coef.append(other[i])\n",
    "            return poly(len(new_coef), new_coef)\n",
    "        else:\n",
    "            print(f'dont know how to add {type(other)} :(')\n",
    "        return 0\n",
    "\n",
    "    def last(self):\n",
    "        return self[self.n - 1]"
   ]
  },
  {
   "cell_type": "code",
   "execution_count": 355,
   "id": "2fa630e7-c5ac-401d-abc1-06ccbd24aa32",
   "metadata": {},
   "outputs": [
    {
     "name": "stdout",
     "output_type": "stream",
     "text": [
      "5.00*x^4 + 4.00*x^3 + 6.00*x^2 + 4.00*x^1 + 2.00*x^0\n",
      "5.00*x^4 + 4.00*x^3 + 6.00*x^2 + 4.00*x^1 + 2.00*x^0\n"
     ]
    }
   ],
   "source": [
    "a = poly(3, [1, 2, 3])\n",
    "b = poly(5, [1, 2, 3, 4, 5])\n",
    "print(a + b)\n",
    "print(b + a)"
   ]
  },
  {
   "cell_type": "code",
   "execution_count": 356,
   "id": "f6e85c0b-25ba-42c9-96af-784889a2962c",
   "metadata": {},
   "outputs": [],
   "source": [
    "def deg_integral(coef, n, a, b):\n",
    "    '''integral from a to b of coef * x**n'''\n",
    "    return (b**(n + 1) - a**(n + 1)) / (n + 1) * coef"
   ]
  },
  {
   "cell_type": "code",
   "execution_count": 357,
   "id": "01ced659-ddd2-42ff-8af5-269da94f3842",
   "metadata": {},
   "outputs": [],
   "source": [
    "def scalar_prod(p, q, a, b):\n",
    "    res = 0\n",
    "    for i in range(len(p)):\n",
    "        for j in range(len(q)):\n",
    "            res += deg_integral(p[i] * q[j], i + j, a, b)\n",
    "    return res"
   ]
  },
  {
   "cell_type": "code",
   "execution_count": 358,
   "id": "27caead1-90cd-45bf-a39d-ec793b82017d",
   "metadata": {},
   "outputs": [],
   "source": [
    "def gramm_matrix(n, a, b):\n",
    "    g = np.zeros((n, n))\n",
    "    for i in range(n):\n",
    "        for j in range(n):\n",
    "            g[i, j] = deg_integral(1, i + j, a, b)\n",
    "    return g"
   ]
  },
  {
   "cell_type": "code",
   "execution_count": 359,
   "id": "1957a53e-9efd-44ad-aef6-b697f5c0c127",
   "metadata": {},
   "outputs": [
    {
     "name": "stdout",
     "output_type": "stream",
     "text": [
      "[1.]\n",
      "[-1.73205081  3.46410162]\n",
      "[  2.23606798 -13.41640786  13.41640786]\n"
     ]
    }
   ],
   "source": [
    "s = np.linalg.inv(np.linalg.cholesky(gramm_matrix(3, 0, 1)))\n",
    "for i in range(3):\n",
    "    print(s[i][:i+1])"
   ]
  },
  {
   "cell_type": "code",
   "execution_count": 360,
   "id": "12f9c835-17d2-495b-95f5-0bafa074f349",
   "metadata": {},
   "outputs": [],
   "source": [
    "def orthogonal_polynomials_cholesky(n, a, b, verbose=True):\n",
    "    polys = []\n",
    "    S = np.linalg.inv(np.linalg.cholesky(gramm_matrix(n, a, b)))\n",
    "    for i in range(n):\n",
    "        coeffs = S[i][:i+1]\n",
    "        polys.append(poly(i + 1, coeffs))\n",
    "        if verbose:\n",
    "            print(polys[i])\n",
    "\n",
    "    if verbose:\n",
    "        for i in range(n):\n",
    "            for j in range(i + 1, n):\n",
    "                print(f'{i}x{j}: ', scalar_prod(polys[i], polys[j], a, b))\n",
    "    return polys"
   ]
  },
  {
   "cell_type": "code",
   "execution_count": 361,
   "id": "e0b996b9-d32e-4e2f-b832-8de44750afe1",
   "metadata": {},
   "outputs": [
    {
     "name": "stdout",
     "output_type": "stream",
     "text": [
      "1.00*x^0\n",
      "3.46*x^1 + -1.73*x^0\n",
      "13.42*x^2 + -13.42*x^1 + 2.24*x^0\n",
      "52.92*x^3 + -79.37*x^2 + 31.75*x^1 + -2.65*x^0\n",
      "210.00*x^4 + -420.00*x^3 + 270.00*x^2 + -60.00*x^1 + 3.00*x^0\n",
      "0x1:  0.0\n",
      "0x2:  0.0\n",
      "0x3:  0.0\n",
      "0x4:  -2.1316282072803006e-14\n",
      "1x2:  0.0\n",
      "1x3:  7.105427357601002e-15\n",
      "1x4:  2.842170943040401e-14\n",
      "2x3:  0.0\n",
      "2x4:  3.410605131648481e-13\n",
      "3x4:  -4.547473508864641e-13\n"
     ]
    },
    {
     "data": {
      "text/plain": [
       "[<__main__.poly at 0x1ec066710d0>,\n",
       " <__main__.poly at 0x1ec066c5010>,\n",
       " <__main__.poly at 0x1ec066c42f0>,\n",
       " <__main__.poly at 0x1ec066c68d0>,\n",
       " <__main__.poly at 0x1ec066c5460>]"
      ]
     },
     "execution_count": 361,
     "metadata": {},
     "output_type": "execute_result"
    }
   ],
   "source": [
    "orthogonal_polynomials_cholesky(5, 0, 1)"
   ]
  },
  {
   "cell_type": "code",
   "execution_count": 362,
   "id": "d923c3df-6256-4b06-95c9-0f9a9ce9a0a5",
   "metadata": {},
   "outputs": [
    {
     "name": "stdout",
     "output_type": "stream",
     "text": [
      "14 Matrix is not positive definite :(\n"
     ]
    }
   ],
   "source": [
    "for i in range(100):\n",
    "    try:\n",
    "        orthogonal_polynomials_cholesky(i, 0, 1, False)\n",
    "    except Exception as e:\n",
    "        print(i, str(e), ':(')\n",
    "        break"
   ]
  },
  {
   "cell_type": "code",
   "execution_count": 363,
   "id": "fe6cd9ea-068f-48bc-8d9f-88b903b0b80b",
   "metadata": {},
   "outputs": [
    {
     "name": "stdout",
     "output_type": "stream",
     "text": [
      "26 Matrix is not positive definite :(\n"
     ]
    }
   ],
   "source": [
    "for i in range(100):\n",
    "    try:\n",
    "        orthogonal_polynomials_cholesky(i, -1, 1, False)\n",
    "    except Exception as e:\n",
    "        print(i, str(e), ':(')\n",
    "        break"
   ]
  },
  {
   "cell_type": "code",
   "execution_count": 364,
   "id": "36f0de70-436c-4cb4-86a9-0e289e24e1f4",
   "metadata": {},
   "outputs": [],
   "source": [
    "def orthogonal_polynomials_recur(n, a, b, verbose=True):\n",
    "    polys = []\n",
    "    l0 = poly(1, [1])\n",
    "    alpha = deg_integral(1, 1, a, b)\n",
    "    polys.append(l0)\n",
    "    l1 = l0.times_x() + l0 * (-alpha)\n",
    "    l1 = l1 * (1 / np.sqrt(scalar_prod(l1, l1, a, b)))\n",
    "    polys.append(l1)\n",
    "    beta = scalar_prod(l0.times_x(), l1, a, b)\n",
    "    if verbose:\n",
    "        print(l0)\n",
    "        print(l1)\n",
    "    for i in range(2, n):\n",
    "        ln = polys[i - 1]\n",
    "        alpha = scalar_prod(ln.times_x(), ln, a, b)\n",
    "        l = ln.times_x() + ln * (-alpha)\n",
    "        l += polys[i - 2] * (-beta)\n",
    "        l *= 1 / np.sqrt(scalar_prod(l, l, a, b))\n",
    "        beta = scalar_prod(ln.times_x(), l, a, b)\n",
    "        polys.append(l)\n",
    "        if verbose:\n",
    "            print(l)\n",
    "\n",
    "    if verbose:\n",
    "        for i in range(n):\n",
    "            for j in range(i + 1, n):\n",
    "                print(f'{i}x{j}: ', scalar_prod(polys[i], polys[j], a, b))\n",
    "    return polys"
   ]
  },
  {
   "cell_type": "code",
   "execution_count": 365,
   "id": "cbfa5a93-606e-4b07-a4a0-6001a809bc97",
   "metadata": {},
   "outputs": [
    {
     "name": "stdout",
     "output_type": "stream",
     "text": [
      "1.00*x^0\n",
      "3.46*x^1 + -1.73*x^0\n",
      "13.42*x^2 + -13.42*x^1 + 2.24*x^0\n",
      "52.92*x^3 + -79.37*x^2 + 31.75*x^1 + -2.65*x^0\n",
      "210.00*x^4 + -420.00*x^3 + 270.00*x^2 + -60.00*x^1 + 3.00*x^0\n",
      "0x1:  0.0\n",
      "0x2:  1.7763568394002505e-15\n",
      "0x3:  -5.329070518200751e-15\n",
      "0x4:  -1.4210854715202004e-14\n",
      "1x2:  0.0\n",
      "1x3:  -7.105427357601002e-15\n",
      "1x4:  4.263256414560601e-14\n",
      "2x3:  2.842170943040401e-14\n",
      "2x4:  -1.1368683772161603e-13\n",
      "3x4:  4.547473508864641e-13\n"
     ]
    },
    {
     "data": {
      "text/plain": [
       "[<__main__.poly at 0x1ec0669c440>,\n",
       " <__main__.poly at 0x1ec06697350>,\n",
       " <__main__.poly at 0x1ec0668b110>,\n",
       " <__main__.poly at 0x1ec1535d550>,\n",
       " <__main__.poly at 0x1ec0669dc40>]"
      ]
     },
     "execution_count": 365,
     "metadata": {},
     "output_type": "execute_result"
    }
   ],
   "source": [
    "orthogonal_polynomials_recur(5, 0, 1)"
   ]
  },
  {
   "cell_type": "code",
   "execution_count": 366,
   "id": "58c8d69f-588c-41c9-80a3-11336da7e68d",
   "metadata": {},
   "outputs": [],
   "source": [
    "def poly_from_roots(roots):\n",
    "    coefs = [0]\n",
    "    n = len(roots)\n",
    "    for i in range(n - 1, 0, -1):\n",
    "        s = 0\n",
    "        for comb in combinations(roots, i):\n",
    "            coef = 1\n",
    "            for el in comb:\n",
    "                coef *= el\n",
    "            s += coef\n",
    "        s = -s if i % 2 == 1 else s\n",
    "        coefs.append(s)\n",
    "    \n",
    "    free = 1\n",
    "    for i in roots:\n",
    "        free *= i\n",
    "    coefs[0] = -free if n % 2 == 1 else free\n",
    "    coefs.append(1)\n",
    "    return poly(n + 1, coefs)"
   ]
  },
  {
   "cell_type": "code",
   "execution_count": 367,
   "id": "4f60cfd0-8f0a-4bd6-a5bc-f5f10c1945ed",
   "metadata": {},
   "outputs": [
    {
     "name": "stdout",
     "output_type": "stream",
     "text": [
      "1.00*x^4 + -14.00*x^3 + 71.00*x^2 + -154.00*x^1 + 120.00*x^0\n"
     ]
    }
   ],
   "source": [
    "print(poly_from_roots([2, 3, 4, 5]))"
   ]
  },
  {
   "cell_type": "code",
   "execution_count": 392,
   "id": "7d76327c-c8b7-429a-9fe4-948de0f21cd7",
   "metadata": {},
   "outputs": [],
   "source": [
    "def orthogonal_polynomials_roots(n, a, b, verbose=True):\n",
    "    alphas = []\n",
    "    betas = []\n",
    "    polys = []\n",
    "    l0 = poly(1, [1])\n",
    "    alpha = deg_integral(1, 1, a, b)\n",
    "    polys.append(l0)\n",
    "    l1 = l0.times_x() + l0 * (-alpha)\n",
    "    l1 = l1 * (1 / np.sqrt(scalar_prod(l1, l1, a, b)))\n",
    "    polys.append(l1)\n",
    "    beta = scalar_prod(l0.times_x(), l1, a, b)\n",
    "    alphas.append(alpha)\n",
    "    betas.append(beta)\n",
    "    alphas.append(scalar_prod(l1, l1.times_x(), a, b))\n",
    "    if verbose:\n",
    "        print(l0)\n",
    "        print(l1)\n",
    "        print()\n",
    "    for i in range(2, n):\n",
    "        roots = eigh_tridiagonal(alphas, betas, eigvals_only=True)\n",
    "        l_i = poly_from_roots(roots)\n",
    "        l_i = l_i * (1 / np.sqrt(scalar_prod(l_i, l_i, a, b)))\n",
    "        alphas.append(scalar_prod(l_i, l_i.times_x(), a, b))\n",
    "        betas.append(scalar_prod(l_i, polys[i - 1].times_x(), a, b))\n",
    "        polys.append(l_i)\n",
    "        if verbose:\n",
    "            print(roots)\n",
    "            print(l_i)\n",
    "            print()\n",
    "\n",
    "    if verbose:\n",
    "        for i in range(n):\n",
    "            for j in range(i + 1, n):\n",
    "                print(f'{i}x{j}: ', scalar_prod(polys[i], polys[j], a, b))"
   ]
  },
  {
   "cell_type": "code",
   "execution_count": 397,
   "id": "f7cf7b5d-fcd3-4fba-b016-f463898ef69a",
   "metadata": {},
   "outputs": [
    {
     "name": "stdout",
     "output_type": "stream",
     "text": [
      "1.00*x^0\n",
      "3.46*x^1 + -1.73*x^0\n",
      "\n",
      "[0.21132487 0.78867513]\n",
      "13.42*x^2 + -13.42*x^1 + 2.24*x^0\n",
      "\n",
      "[0.11270167 0.5        0.88729833]\n",
      "52.92*x^3 + -79.37*x^2 + 31.75*x^1 + -2.65*x^0\n",
      "\n",
      "[0.06943184 0.33000948 0.66999052 0.93056816]\n",
      "210.00*x^4 + -420.00*x^3 + 270.00*x^2 + -60.00*x^1 + 3.00*x^0\n",
      "\n",
      "0x1:  0.0\n",
      "0x2:  1.7763568394002505e-15\n",
      "0x3:  -1.7763568394002505e-15\n",
      "0x4:  -2.842170943040401e-14\n",
      "1x2:  0.0\n",
      "1x3:  -2.1316282072803006e-14\n",
      "1x4:  -2.842170943040401e-14\n",
      "2x3:  -2.842170943040401e-14\n",
      "2x4:  -2.8421709430404007e-13\n",
      "3x4:  -1.3642420526593924e-12\n"
     ]
    }
   ],
   "source": [
    "orthogonal_polynomials_roots(5, 0, 1, verbose=True)"
   ]
  }
 ],
 "metadata": {
  "kernelspec": {
   "display_name": "Python 3 (ipykernel)",
   "language": "python",
   "name": "python3"
  },
  "language_info": {
   "codemirror_mode": {
    "name": "ipython",
    "version": 3
   },
   "file_extension": ".py",
   "mimetype": "text/x-python",
   "name": "python",
   "nbconvert_exporter": "python",
   "pygments_lexer": "ipython3",
   "version": "3.11.4"
  }
 },
 "nbformat": 4,
 "nbformat_minor": 5
}
