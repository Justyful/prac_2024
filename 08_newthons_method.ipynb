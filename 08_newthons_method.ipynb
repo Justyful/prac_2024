{
 "cells": [
  {
   "cell_type": "code",
   "execution_count": 11,
   "id": "d88bb1d3-6819-491d-a866-bff6b233847d",
   "metadata": {},
   "outputs": [],
   "source": [
    "import numpy as np\n",
    "import matplotlib.pyplot as plt\n",
    "from numpy.polynomial.polynomial import Polynomial\n",
    "from math import factorial\n",
    "from scipy.linalg import solveh_banded\n",
    "np.set_printoptions(precision=3, linewidth=200)\n",
    "from scipy.special import roots_legendre\n",
    "from scipy.integrate import quad\n",
    "from scipy.misc import derivative"
   ]
  },
  {
   "cell_type": "code",
   "execution_count": 15,
   "id": "ace00d89-2856-426d-9e99-b48b1a46dff5",
   "metadata": {},
   "outputs": [],
   "source": [
    "import warnings\n",
    "warnings.filterwarnings('ignore', category=DeprecationWarning)"
   ]
  },
  {
   "cell_type": "code",
   "execution_count": 23,
   "id": "bdd3e2c8-9ceb-4e16-98b4-1af68234edda",
   "metadata": {},
   "outputs": [],
   "source": [
    "def newton(f, start, tol):\n",
    "    x = start\n",
    "    n = 0\n",
    "    while np.abs(f(x) / derivative(f, x, dx=1e-6)) >= tol:\n",
    "        x = x - f(x) / derivative(f, x, dx=1e-6)\n",
    "        n += 1\n",
    "    print(f'{n=} \\n{f(x)=} \\n{x=}\\n')"
   ]
  },
  {
   "cell_type": "code",
   "execution_count": 29,
   "id": "4a2d6b54-bbd1-46e1-aefb-572d73d6beff",
   "metadata": {},
   "outputs": [
    {
     "name": "stdout",
     "output_type": "stream",
     "text": [
      "n=3 \n",
      "f(x)=-1.2113614690327512e-14 \n",
      "x=-1.2113614690327512e-14\n",
      "\n",
      "n=3 \n",
      "f(x)=-6.012355577970274e-13 \n",
      "x=1.5707963267954979\n",
      "\n",
      "n=5 \n",
      "f(x)=0.0 \n",
      "x=5.000000000000001\n",
      "\n",
      "n=4 \n",
      "f(x)=0.0 \n",
      "x=10.000000000000007\n",
      "\n",
      "n=5 \n",
      "f(x)=0.0 \n",
      "x=15.0\n",
      "\n",
      "n=30 \n",
      "f(x)=2.3081838662619703e-09 \n",
      "x=15.000000000046164\n",
      "\n",
      "n=67 \n",
      "f(x)=4.0326852968064486e-11 \n",
      "x=0.999999999993279\n",
      "\n",
      "n=745 \n",
      "f(x)=0.0 \n",
      "x=-inf\n",
      "\n"
     ]
    },
    {
     "name": "stderr",
     "output_type": "stream",
     "text": [
      "C:\\Users\\blsc1\\AppData\\Local\\Temp\\ipykernel_25996\\198338189.py:4: RuntimeWarning: divide by zero encountered in scalar divide\n",
      "  while np.abs(f(x) / derivative(f, x, dx=1e-6)) >= tol:\n",
      "C:\\Users\\blsc1\\AppData\\Local\\Temp\\ipykernel_25996\\198338189.py:5: RuntimeWarning: divide by zero encountered in scalar divide\n",
      "  x = x - f(x) / derivative(f, x, dx=1e-6)\n",
      "C:\\Users\\blsc1\\AppData\\Local\\Temp\\ipykernel_25996\\198338189.py:4: RuntimeWarning: invalid value encountered in scalar divide\n",
      "  while np.abs(f(x) / derivative(f, x, dx=1e-6)) >= tol:\n"
     ]
    }
   ],
   "source": [
    "newton(np.sin, start=0.5, tol=1e-10)\n",
    "newton(np.cos, start=1.0, tol=1e-10)\n",
    "newton(Polynomial.fromroots([5, 10, 15]), start=3.941234, tol=1e-10)\n",
    "newton(Polynomial.fromroots([5, 10, 15]), start=8.6234546, tol=1e-10)\n",
    "newton(Polynomial.fromroots([5, 10, 15]), start=16.34623, tol=1e-10)\n",
    "newton(Polynomial.fromroots([5, 10, 15]), start=161234.34623, tol=1e-10)\n",
    "newton(Polynomial.fromroots([1, 2, 3, 4]), start=2.5, tol=1e-10)\n",
    "newton(np.exp, start=12.321412, tol=1e-10)"
   ]
  },
  {
   "cell_type": "code",
   "execution_count": null,
   "id": "81d67f13-a546-453f-a954-715aa00bc5c1",
   "metadata": {},
   "outputs": [],
   "source": []
  }
 ],
 "metadata": {
  "kernelspec": {
   "display_name": "Python 3 (ipykernel)",
   "language": "python",
   "name": "python3"
  },
  "language_info": {
   "codemirror_mode": {
    "name": "ipython",
    "version": 3
   },
   "file_extension": ".py",
   "mimetype": "text/x-python",
   "name": "python",
   "nbconvert_exporter": "python",
   "pygments_lexer": "ipython3",
   "version": "3.11.4"
  }
 },
 "nbformat": 4,
 "nbformat_minor": 5
}
