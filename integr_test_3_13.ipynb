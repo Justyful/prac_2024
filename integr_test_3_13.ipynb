{
 "cells": [
  {
   "cell_type": "code",
   "execution_count": 53,
   "id": "f9552d3d-2278-44ac-91a1-f790d7b35ca3",
   "metadata": {
    "tags": []
   },
   "outputs": [],
   "source": [
    "import numpy as np\n",
    "import matplotlib.pyplot as plt\n",
    "from numpy.polynomial.polynomial import Polynomial\n",
    "from math import factorial\n",
    "from scipy.linalg import solveh_banded\n",
    "np.set_printoptions(precision=3, linewidth=200)\n",
    "from scipy.special import roots_legendre, roots_chebyt\n",
    "from scipy.integrate import quad\n",
    "from scipy.misc import derivative\n",
    "from scipy.stats import qmc"
   ]
  },
  {
   "cell_type": "code",
   "execution_count": 54,
   "id": "360a4d0b-938b-4ed5-9fb3-7b970f7a7296",
   "metadata": {
    "tags": []
   },
   "outputs": [],
   "source": [
    "def get_points(a, b, n, mode):\n",
    "    if mode == 'uniform':\n",
    "        points = np.linspace(a, b, n)\n",
    "    elif mode == 'random':\n",
    "        points = np.concatenate(([a], np.sort(np.random.rand(n - 2) * (b - a) + a), [b]))\n",
    "    elif mode == 'chebyshev':\n",
    "        points = (np.polynomial.chebyshev.chebpts1(n) + 1) / 2 * (b - a) + a\n",
    "    else:\n",
    "        print(f'incorrect mode {mode}')\n",
    "        points = 0\n",
    "    return np.array(points)"
   ]
  },
  {
   "cell_type": "code",
   "execution_count": 55,
   "id": "8e87a5f4-b5f1-41a4-b611-c1ea6c0ebc29",
   "metadata": {
    "tags": []
   },
   "outputs": [],
   "source": [
    "def gauss_legendre(n, a, b, f, verbose=False):\n",
    "    points = roots_legendre(n)[0]\n",
    "    points_projected = (points + 1) / 2 * (b - a) + a\n",
    "    l = Polynomial.fromroots(points)\n",
    "    w = l.deriv()\n",
    "    d = np.zeros(n)\n",
    "    for i, x in enumerate(points):\n",
    "        l_i  = Polynomial.fromroots(list(points[:i]) + list(points[i+1:])) / w(x)\n",
    "        l_i_integr = l_i.integ()\n",
    "        d[i] = l_i_integr(1) - l_i_integr(-1)\n",
    "        d[i] *= (b - a) / 2\n",
    "    if verbose:    \n",
    "        print('d', d)\n",
    "    fx = f(points_projected)\n",
    "    res = np.sum(fx * d)\n",
    "    print('quadrature result =', res)\n",
    "    integration = quad(f, -1, 1)\n",
    "    print('gauss-legendre error =', np.abs(res - integration[0]), '\\n')"
   ]
  },
  {
   "cell_type": "code",
   "execution_count": 56,
   "id": "8a35fd45-1961-497c-b120-3cf1f96b81e0",
   "metadata": {
    "tags": []
   },
   "outputs": [],
   "source": [
    "def gauss_chebyshev(n, a, b, f, verbose=False):\n",
    "    points = roots_chebyt(n)[0]\n",
    "    points_projected = (points + 1) / 2 * (b - a) + a\n",
    "    l = Polynomial.fromroots(points)\n",
    "    w = l.deriv()\n",
    "    d = np.zeros(n)\n",
    "    for i, x in enumerate(points):\n",
    "        l_i  = Polynomial.fromroots(list(points[:i]) + list(points[i+1:])) / w(x)\n",
    "        l_i_integr = l_i.integ()\n",
    "        d[i] = l_i_integr(1) - l_i_integr(-1)\n",
    "        d[i] *= (b - a) / 2\n",
    "    if verbose:    \n",
    "        print('d', d)\n",
    "    fx = f(points_projected)\n",
    "    res = np.sum(fx * d)\n",
    "    print('quadrature result =', res)\n",
    "    integration = quad(f, -1, 1)\n",
    "    print('gauss-chebyshev error =', np.abs(res - integration[0]), '\\n')\n",
    "    return np.abs(res - integration[0])"
   ]
  },
  {
   "cell_type": "code",
   "execution_count": 57,
   "id": "ab8d0c29-4857-4143-9c30-e61fac829f9a",
   "metadata": {
    "tags": []
   },
   "outputs": [],
   "source": [
    "def monte_carlo(f, a, b, eps, verbose=False):\n",
    "    # mode: std, geo, geo_sobol, geo_sobol_shuffle\n",
    "    n = int( (3 * (b - a) / eps)**2 / 12) + 1\n",
    "    if verbose:\n",
    "        print(n)\n",
    "    points = a + np.random.rand(n) * (b - a)\n",
    "    res = 0\n",
    "    for i in range(n):\n",
    "        res += f(points[i])\n",
    "    res *= (b - a) / n\n",
    "    print('monte carlo res =', res)\n",
    "    integration = quad(f, -1, 1)\n",
    "    print('monte carlo error =', np.abs(res - integration[0]), '\\n')\n",
    "    return res"
   ]
  },
  {
   "cell_type": "code",
   "execution_count": 58,
   "id": "08e168ba-15cf-4764-986f-5834f527ef16",
   "metadata": {
    "tags": []
   },
   "outputs": [],
   "source": [
    "def f(x):\n",
    "    return 1 / np.sqrt(1 - np.power(x, 4))"
   ]
  },
  {
   "cell_type": "code",
   "execution_count": 59,
   "id": "86717cb7-0043-4e6e-b01b-b1b49fa39324",
   "metadata": {
    "tags": []
   },
   "outputs": [],
   "source": [
    "def plot(f, a, b, name):\n",
    "    #a = a - 1\n",
    "    #b = b + 1\n",
    "    plot_points = get_points(a + 1e-6, b - 1e-6, int(100 * (b - a)), 'uniform')\n",
    "    plt.plot(plot_points, f(plot_points), label='function')\n",
    "    plt.title(name)\n",
    "    plt.legend()\n",
    "    plt.grid()\n",
    "    plt.show()"
   ]
  },
  {
   "cell_type": "code",
   "execution_count": 60,
   "id": "ebfd2a08-dbe9-49f3-8149-627c541800cf",
   "metadata": {
    "tags": []
   },
   "outputs": [
    {
     "data": {
      "image/png": "[encoded data removed]",
      "text/plain": [
       "<Figure size 640x480 with 1 Axes>"
      ]
     },
     "metadata": {},
     "output_type": "display_data"
    }
   ],
   "source": [
    "plot(f, -1, 1, '1/sqrt(1-x^4)')"
   ]
  },
  {
   "cell_type": "code",
   "execution_count": 61,
   "id": "f6e2ba7a-3cea-40c2-8762-2495b24587bb",
   "metadata": {
    "tags": []
   },
   "outputs": [
    {
     "name": "stdout",
     "output_type": "stream",
     "text": [
      "scipy integration result = 2.622057554291515\n"
     ]
    }
   ],
   "source": [
    "integration = quad(f, -1, 1)\n",
    "print('scipy integration result =', integration[0])"
   ]
  },
  {
   "cell_type": "code",
   "execution_count": 62,
   "id": "05163bc3-fe54-4bd1-9220-796335ebd5e1",
   "metadata": {
    "tags": []
   },
   "outputs": [
    {
     "name": "stdout",
     "output_type": "stream",
     "text": [
      "quadrature result = 2.5426689657794244\n",
      "gauss-legendre error = 0.07938858851209085 \n",
      "\n",
      "quadrature result = 2.5893788434657115\n",
      "gauss-chebyshev error = 0.03267871082580376 \n",
      "\n",
      "monte carlo res = 2.611050862176242\n",
      "monte carlo error = 0.011006692115273164 \n",
      "\n"
     ]
    },
    {
     "data": {
      "text/plain": [
       "'вот так вот'"
      ]
     },
     "execution_count": 62,
     "metadata": {},
     "output_type": "execute_result"
    }
   ],
   "source": [
    "np.random.seed(703)\n",
    "gauss_legendre(15, -1, 1, f)\n",
    "eps = gauss_chebyshev(15, -1, 1, f)\n",
    "monte_carlo(f, -1, 1, eps)\n",
    "'вот так вот'"
   ]
  },
  {
   "cell_type": "code",
   "execution_count": null,
   "id": "c40e76c2-5e7e-484b-8e75-cddcf23ddffb",
   "metadata": {},
   "outputs": [],
   "source": []
  },
  {
   "cell_type": "code",
   "execution_count": null,
   "id": "e7ae6a34-d3cf-4b8f-8fb3-339d11693dd0",
   "metadata": {},
   "outputs": [],
   "source": []
  }
 ],
 "metadata": {
  "kernelspec": {
   "display_name": "Python 3 (ipykernel)",
   "language": "python",
   "name": "python3"
  },
  "language_info": {
   "codemirror_mode": {
    "name": "ipython",
    "version": 3
   },
   "file_extension": ".py",
   "mimetype": "text/x-python",
   "name": "python",
   "nbconvert_exporter": "python",
   "pygments_lexer": "ipython3",
   "version": "3.11.4"
  }
 },
 "nbformat": 4,
 "nbformat_minor": 5
}
