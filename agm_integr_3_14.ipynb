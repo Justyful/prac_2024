{
 "cells": [
  {
   "cell_type": "code",
   "execution_count": 1,
   "id": "00b3458e-f941-45de-8698-0be97b52622a",
   "metadata": {
    "tags": []
   },
   "outputs": [],
   "source": [
    "import numpy as np\n",
    "import matplotlib.pyplot as plt\n",
    "from numpy.polynomial.polynomial import Polynomial\n",
    "from math import factorial\n",
    "from scipy.linalg import solveh_banded\n",
    "np.set_printoptions(precision=3, linewidth=200)\n",
    "from scipy.special import roots_legendre, roots_chebyt\n",
    "from scipy.integrate import quad\n",
    "from scipy.misc import derivative\n",
    "from scipy.stats import qmc"
   ]
  },
  {
   "cell_type": "code",
   "execution_count": 2,
   "id": "c3cded3f-079f-4074-8331-7550c6f2a229",
   "metadata": {
    "tags": []
   },
   "outputs": [],
   "source": [
    "def get_points(a, b, n, mode):\n",
    "    if mode == 'uniform':\n",
    "        points = np.linspace(a, b, n)\n",
    "    elif mode == 'random':\n",
    "        points = np.concatenate(([a], np.sort(np.random.rand(n - 2) * (b - a) + a), [b]))\n",
    "    elif mode == 'chebyshev':\n",
    "        points = (np.polynomial.chebyshev.chebpts1(n) + 1) / 2 * (b - a) + a\n",
    "    else:\n",
    "        print(f'incorrect mode {mode}')\n",
    "        points = 0\n",
    "    return np.array(points)"
   ]
  },
  {
   "cell_type": "code",
   "execution_count": 3,
   "id": "d19d03ec-207a-4c4f-a0d5-13b43ec828ae",
   "metadata": {
    "tags": []
   },
   "outputs": [],
   "source": [
    "def gauss_legendre(n, f, verbose=False):\n",
    "    a = 0\n",
    "    b = np.pi/2\n",
    "    points = roots_legendre(n)[0]\n",
    "    points_projected = (points + 1) / 2 * (b - a) + a\n",
    "    l = Polynomial.fromroots(points)\n",
    "    w = l.deriv()\n",
    "    d = np.zeros(n)\n",
    "    for i, x in enumerate(points):\n",
    "        l_i  = Polynomial.fromroots(list(points[:i]) + list(points[i+1:])) / w(x)\n",
    "        l_i_integr = l_i.integ()\n",
    "        d[i] = l_i_integr(1) - l_i_integr(-1)\n",
    "        d[i] *= (b - a) / 2\n",
    "    if verbose:    \n",
    "        print('d', d)\n",
    "    fx = f(points_projected)\n",
    "    res = np.sum(fx * d)\n",
    "    print('quadrature result =', res)\n",
    "    integration = quad(f, a, b)\n",
    "    print('gauss-legendre error =', np.abs(res - integration[0]), '\\n')"
   ]
  },
  {
   "cell_type": "code",
   "execution_count": 4,
   "id": "0b12497c-7890-4d91-ac03-d71bebab8dde",
   "metadata": {
    "tags": []
   },
   "outputs": [],
   "source": [
    "def proj(a, b, x):\n",
    "    # x from [a, b] to [-1,1]\n",
    "    return 2 * (x - a) / (b - a) - 1\n",
    "\n",
    "def proj_inv(a, b, x):\n",
    "    # x from [-1, 1] to [a, b]\n",
    "    return (x * (b - a) + a + b) / 2\n",
    "\n",
    "def clenshaw_curtis(n, f, verbose=False):\n",
    "    a = 0\n",
    "    b = np.pi/2\n",
    "    points = np.array([np.cos(np.pi * i / n) for i in range(n)])\n",
    "    halfn = n // 2\n",
    "    coef = 2 / (b - a)\n",
    "    numer = np.zeros(halfn)\n",
    "    denom = np.array([1] + [2 / (1 - 4*k**2) for k in range(1, halfn)])\n",
    "    for k in range(halfn):\n",
    "        a2k = (f(proj_inv(a, b, 1)) + f(proj_inv(a, b, -1))) / 2\n",
    "        for j in range(1, n):\n",
    "            a2k += f(proj_inv(a, b, np.cos(np.pi * j / n))) * np.cos(j * 2 * k * np.pi / n)\n",
    "        numer[k] = 2 * a2k / n\n",
    "    if verbose:\n",
    "        print(coef)\n",
    "        \n",
    "        print(numer)\n",
    "        print(denom)\n",
    "    res = np.sum(numer * denom) / coef\n",
    "    print('quadrature result =', res)\n",
    "    integration = quad(f, a, b)\n",
    "    print('clenshaw-curtis error =', np.abs(res - integration[0]), '\\n')\n",
    "    return np.abs(res - integration[0])"
   ]
  },
  {
   "cell_type": "code",
   "execution_count": 5,
   "id": "f4f7b2b2-d2c7-4655-85b9-554f38875339",
   "metadata": {
    "tags": []
   },
   "outputs": [],
   "source": [
    "def agm(a, b, eps, verbose=False):\n",
    "    a_prev = a\n",
    "    b_prev = b\n",
    "    a_next = np.sqrt(a * b) \n",
    "    b_next = (a + b) / 2\n",
    "    n = 1\n",
    "    while np.abs(b_next - a_next) >= eps:\n",
    "        a_next = np.sqrt(a_prev * b_prev)\n",
    "        b_next = (a_prev + b_prev) / 2\n",
    "        a_prev = a_next\n",
    "        b_prev = b_next\n",
    "        n += 1\n",
    "    res = np.pi / 2 / a_next\n",
    "    print(f'{n} agm res =', res)\n",
    "    integration = quad(f, 0, np.pi/2)\n",
    "    print('error =', np.abs(res - integration[0]))"
   ]
  },
  {
   "cell_type": "code",
   "execution_count": 6,
   "id": "90762cf5-d89e-4baa-bde9-7e04af48a953",
   "metadata": {
    "tags": []
   },
   "outputs": [],
   "source": [
    "def get_f(a, b):\n",
    "    def f(x):\n",
    "        return 1 / np.sqrt(np.power(a * np.sin(x), 2) + np.power(b * np.cos(x), 2))\n",
    "    return f"
   ]
  },
  {
   "cell_type": "code",
   "execution_count": 55,
   "id": "6348b15b-b29e-488a-b16f-02a243d10181",
   "metadata": {},
   "outputs": [
    {
     "name": "stdout",
     "output_type": "stream",
     "text": [
      "scipy integration result = 0.21565156474996452 \n",
      "\n",
      "quadrature result = 0.2156515647500356\n",
      "gauss-legendre error = 7.108202915162565e-14 \n",
      "\n",
      "quadrature result = 0.21565156417609468\n",
      "clenshaw-curtis error = 5.738698405366449e-10 \n",
      "\n",
      "5 agm res = 0.2156515647499643\n",
      "error = 2.220446049250313e-16\n",
      "5 agm res = 0.2156515647499643\n",
      "error = 2.220446049250313e-16\n"
     ]
    }
   ],
   "source": [
    "a = 5\n",
    "b = 10\n",
    "f = get_f(a, b)\n",
    "integration = quad(f, 0, np.pi/2)\n",
    "print('scipy integration result =', integration[0], '\\n')\n",
    "gauss_legendre(15, f)\n",
    "eps = clenshaw_curtis(15, f)\n",
    "agm(a, b, eps)\n",
    "agm(a, b, 1e-10)"
   ]
  },
  {
   "cell_type": "code",
   "execution_count": 56,
   "id": "f0d4d856-94cb-4ec6-b17c-3b4ed60776d1",
   "metadata": {},
   "outputs": [
    {
     "name": "stdout",
     "output_type": "stream",
     "text": [
      "scipy integration result = 0.0005399826375217206 \n",
      "\n",
      "quadrature result = 0.0005399826445331622\n",
      "gauss-legendre error = 7.011441665975837e-12 \n",
      "\n",
      "quadrature result = 0.000539983071924356\n",
      "clenshaw-curtis error = 4.3440263539085144e-10 \n",
      "\n",
      "6 agm res = 0.0005399826375217207\n",
      "error = 1.0842021724855044e-19\n",
      "6 agm res = 0.0005399826375217207\n",
      "error = 1.0842021724855044e-19\n"
     ]
    }
   ],
   "source": [
    "a = 1234\n",
    "b = 5321\n",
    "f = get_f(a, b)\n",
    "integration = quad(f, 0, np.pi/2)\n",
    "print('scipy integration result =', integration[0], '\\n')\n",
    "gauss_legendre(15, f)\n",
    "eps = clenshaw_curtis(15, f)\n",
    "agm(a, b, eps)\n",
    "agm(a, b, 1e-10)"
   ]
  },
  {
   "cell_type": "code",
   "execution_count": 57,
   "id": "27c20003-74e9-4994-80b5-09df88479315",
   "metadata": {},
   "outputs": [
    {
     "name": "stdout",
     "output_type": "stream",
     "text": [
      "scipy integration result = 55.372594344972384 \n",
      "\n",
      "quadrature result = 55.37259488587961\n",
      "gauss-legendre error = 5.409072230122547e-07 \n",
      "\n",
      "quadrature result = 55.37262346931333\n",
      "clenshaw-curtis error = 2.9124340947817018e-05 \n",
      "\n",
      "4 agm res = 55.37275678050571\n",
      "error = 0.00016243553332628835\n",
      "5 agm res = 55.37259434509143\n",
      "error = 1.1904432994924719e-10\n"
     ]
    }
   ],
   "source": [
    "a = 0.012341234\n",
    "b = 0.05123\n",
    "f = get_f(a, b)\n",
    "integration = quad(f, 0, np.pi/2)\n",
    "print('scipy integration result =', integration[0], '\\n')\n",
    "gauss_legendre(15, f)\n",
    "eps = clenshaw_curtis(15, f)\n",
    "agm(a, b, eps)\n",
    "agm(a, b, 1e-10)"
   ]
  },
  {
   "cell_type": "code",
   "execution_count": 68,
   "id": "40647472-7f7a-47b1-b6f8-1382d24286a3",
   "metadata": {},
   "outputs": [],
   "source": [
    "def agm_n(a, b, n, verbose=False):\n",
    "    a_prev = a\n",
    "    b_prev = b\n",
    "    a_next = np.sqrt(a * b) \n",
    "    b_next = (a + b) / 2\n",
    "    for _ in range(n):\n",
    "        a_next = np.sqrt(a_prev * b_prev)\n",
    "        b_next = (a_prev + b_prev) / 2\n",
    "        a_prev = a_next\n",
    "        b_prev = b_next\n",
    "    res = np.pi / 2 / a_next\n",
    "    print(f'{n} agm res =', res)\n",
    "    integration = quad(f, 0, np.pi/2)\n",
    "    print('error =', np.abs(res - integration[0]), '\\n')"
   ]
  },
  {
   "cell_type": "code",
   "execution_count": 69,
   "id": "9e4eda39-2aa9-4f0b-84e8-52db82f076b6",
   "metadata": {},
   "outputs": [
    {
     "name": "stdout",
     "output_type": "stream",
     "text": [
      "scipy integration result = 0.21565156474996452 \n",
      "\n",
      "1 agm res = 0.22214414690791828\n",
      "error = 0.006492582157953758 \n",
      "\n",
      "2 agm res = 0.21569831091347438\n",
      "error = 4.674616350985872e-05 \n",
      "\n",
      "3 agm res = 0.2156515672823984\n",
      "error = 2.532433873714268e-09 \n",
      "\n",
      "4 agm res = 0.2156515647499643\n",
      "error = 2.220446049250313e-16 \n",
      "\n",
      "5 agm res = 0.2156515647499643\n",
      "error = 2.220446049250313e-16 \n",
      "\n",
      "6 agm res = 0.2156515647499643\n",
      "error = 2.220446049250313e-16 \n",
      "\n",
      "7 agm res = 0.2156515647499643\n",
      "error = 2.220446049250313e-16 \n",
      "\n",
      "8 agm res = 0.2156515647499643\n",
      "error = 2.220446049250313e-16 \n",
      "\n",
      "9 agm res = 0.2156515647499643\n",
      "error = 2.220446049250313e-16 \n",
      "\n",
      "10 agm res = 0.2156515647499643\n",
      "error = 2.220446049250313e-16 \n",
      "\n"
     ]
    }
   ],
   "source": [
    "a = 5\n",
    "b = 10\n",
    "f = get_f(a, b)\n",
    "integration = quad(f, 0, np.pi/2)\n",
    "print('scipy integration result =', integration[0], '\\n')\n",
    "for i in range(10):\n",
    "    agm_n(a, b, i + 1)"
   ]
  },
  {
   "cell_type": "code",
   "execution_count": 70,
   "id": "d51a9268-4d82-479d-a177-c3e3944e7fb6",
   "metadata": {},
   "outputs": [
    {
     "name": "stdout",
     "output_type": "stream",
     "text": [
      "scipy integration result = 0.0005399826375217206 \n",
      "\n",
      "1 agm res = 0.0006130073301670527\n",
      "error = 7.302469264533213e-05 \n",
      "\n",
      "2 agm res = 0.0005420276260265462\n",
      "error = 2.044988504825611e-06 \n",
      "\n",
      "3 agm res = 0.0005399845627413885\n",
      "error = 1.9252196679312578e-09 \n",
      "\n",
      "4 agm res = 0.0005399826375234367\n",
      "error = 1.7160751986100564e-15 \n",
      "\n",
      "5 agm res = 0.0005399826375217207\n",
      "error = 1.0842021724855044e-19 \n",
      "\n",
      "6 agm res = 0.0005399826375217207\n",
      "error = 1.0842021724855044e-19 \n",
      "\n",
      "7 agm res = 0.0005399826375217207\n",
      "error = 1.0842021724855044e-19 \n",
      "\n",
      "8 agm res = 0.0005399826375217207\n",
      "error = 1.0842021724855044e-19 \n",
      "\n",
      "9 agm res = 0.0005399826375217207\n",
      "error = 1.0842021724855044e-19 \n",
      "\n",
      "10 agm res = 0.0005399826375217207\n",
      "error = 1.0842021724855044e-19 \n",
      "\n"
     ]
    }
   ],
   "source": [
    "a = 1234\n",
    "b = 5321\n",
    "f = get_f(a, b)\n",
    "integration = quad(f, 0, np.pi/2)\n",
    "print('scipy integration result =', integration[0], '\\n')\n",
    "for i in range(10):\n",
    "    agm_n(a, b, i + 1)"
   ]
  },
  {
   "cell_type": "code",
   "execution_count": 71,
   "id": "26d671f0-80c0-4d84-8d12-655f50291c88",
   "metadata": {},
   "outputs": [
    {
     "name": "stdout",
     "output_type": "stream",
     "text": [
      "scipy integration result = 99.80198191072782 \n",
      "\n",
      "1 agm res = 197.5506239027773\n",
      "error = 97.74864199204947 \n",
      "\n",
      "2 agm res = 108.76343840216411\n",
      "error = 8.961456491436294 \n",
      "\n",
      "3 agm res = 99.97896303648157\n",
      "error = 0.17698112575375546 \n",
      "\n",
      "4 agm res = 99.8020601636792\n",
      "error = 7.825295138275123e-05 \n",
      "\n",
      "5 agm res = 99.80198191074315\n",
      "error = 1.5333512237702962e-11 \n",
      "\n",
      "6 agm res = 99.80198191072782\n",
      "error = 0.0 \n",
      "\n",
      "7 agm res = 99.80198191072782\n",
      "error = 0.0 \n",
      "\n",
      "8 agm res = 99.80198191072782\n",
      "error = 0.0 \n",
      "\n",
      "9 agm res = 99.80198191072782\n",
      "error = 0.0 \n",
      "\n",
      "10 agm res = 99.80198191072782\n",
      "error = 0.0 \n",
      "\n"
     ]
    }
   ],
   "source": [
    "a = 0.0012341234\n",
    "b = 0.05123\n",
    "f = get_f(a, b)\n",
    "integration = quad(f, 0, np.pi/2)\n",
    "print('scipy integration result =', integration[0], '\\n')\n",
    "for i in range(10):\n",
    "    agm_n(a, b, i + 1)"
   ]
  },
  {
   "cell_type": "code",
   "execution_count": null,
   "id": "6739a649-2296-435f-bbf0-cafcae2e3ac1",
   "metadata": {},
   "outputs": [],
   "source": []
  }
 ],
 "metadata": {
  "kernelspec": {
   "display_name": "Python 3 (ipykernel)",
   "language": "python",
   "name": "python3"
  },
  "language_info": {
   "codemirror_mode": {
    "name": "ipython",
    "version": 3
   },
   "file_extension": ".py",
   "mimetype": "text/x-python",
   "name": "python",
   "nbconvert_exporter": "python",
   "pygments_lexer": "ipython3",
   "version": "3.11.4"
  }
 },
 "nbformat": 4,
 "nbformat_minor": 5
}
