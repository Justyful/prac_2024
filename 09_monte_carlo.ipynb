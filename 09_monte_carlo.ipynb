{
 "cells": [
  {
   "cell_type": "code",
   "execution_count": 60,
   "id": "5c9893d4-0453-4b26-b6c1-831c2ba0dd69",
   "metadata": {
    "tags": []
   },
   "outputs": [],
   "source": [
    "import numpy as np\n",
    "import matplotlib.pyplot as plt\n",
    "from numpy.polynomial.polynomial import Polynomial\n",
    "from math import factorial\n",
    "from scipy.linalg import solveh_banded\n",
    "np.set_printoptions(precision=3, linewidth=200)\n",
    "from scipy.special import roots_legendre\n",
    "from scipy.integrate import quad\n",
    "from scipy.misc import derivative\n",
    "from scipy.stats import qmc"
   ]
  },
  {
   "cell_type": "code",
   "execution_count": 61,
   "id": "02724283-b640-46f0-9066-30141f9ef796",
   "metadata": {
    "tags": []
   },
   "outputs": [],
   "source": [
    "def scan_min_max(f, a, b):\n",
    "    points = np.linspace(a, b, int((b - a) * 10))\n",
    "    max = -np.inf\n",
    "    min = np.inf\n",
    "    for x in points:\n",
    "        val = f(x)\n",
    "        if val > max:\n",
    "            max = val\n",
    "        if val < min:\n",
    "            min = val\n",
    "    return min, max"
   ]
  },
  {
   "cell_type": "code",
   "execution_count": 62,
   "id": "37574083-0800-4950-b7d4-4ec2651b95a6",
   "metadata": {
    "tags": []
   },
   "outputs": [],
   "source": [
    "def monte_carlo(f, a, b, mode, eps, verbose=False):\n",
    "    # mode: std, geo, geo_sobol, geo_sobol_shuffle\n",
    "    n = int( (3 * (b - a) / eps)**2 / 12) + 1\n",
    "    min, max = scan_min_max(f, a, b)\n",
    "    integration = quad(f, a, b)\n",
    "    if verbose:\n",
    "        print(n)\n",
    "        print(f'{min=}, {max=}')\n",
    "    match mode:\n",
    "        case 'std':\n",
    "            points = a + np.random.rand(n) * (b - a)\n",
    "            res = 0\n",
    "            for i in range(n):\n",
    "                res += f(points[i])\n",
    "            res *= (b - a) / n\n",
    "            print('monte carlo res =', res)\n",
    "            print('scipy integration result = ', integration[0])\n",
    "            print('error =', np.abs(res - integration[0]))\n",
    "            return res\n",
    "        case 'geo':\n",
    "            points_x = a + np.random.rand(n) * (b - a)\n",
    "            points_y = np.random.rand(n) * (max - min) + min\n",
    "        case 'geo_sobol':\n",
    "            sampler = qmc.Sobol(d=2, scramble=False)\n",
    "            points = sampler.random(n)\n",
    "            points_x = [a + x[0] * (b - a) for x in points]\n",
    "            points_y = [x[1] * (max - min) + min for x in points]\n",
    "        case 'geo_sobol_shuffle':\n",
    "            sampler = qmc.Sobol(d=2, scramble=True)\n",
    "            points = sampler.random(n)\n",
    "            points_x = [a + x[0] * (b - a) for x in points]\n",
    "            points_y = [x[1] * (max - min) + min for x in points]\n",
    "        case _:\n",
    "            print(f'wrong mode {mode}')\n",
    "            return 0\n",
    "    res = 0\n",
    "    for i in range(n):\n",
    "        res += (f(points_x[i]) >= points_y[i])\n",
    "    res *= (b - a) * (max - min) / n\n",
    "    print('monte carlo res =', res)\n",
    "    print('scipy integration result = ', integration[0])\n",
    "    print('error =', np.abs(res - integration[0]))\n",
    "    return res"
   ]
  },
  {
   "cell_type": "code",
   "execution_count": 63,
   "id": "640b9609-cd0a-485d-98bf-849ee99a7da2",
   "metadata": {
    "tags": []
   },
   "outputs": [],
   "source": [
    "np.random.seed(42)"
   ]
  },
  {
   "cell_type": "code",
   "execution_count": 64,
   "id": "75ea1216-c349-461d-81f3-bf1d45808349",
   "metadata": {
    "tags": []
   },
   "outputs": [
    {
     "name": "stdout",
     "output_type": "stream",
     "text": [
      "750001\n",
      "min=0.006737946999085467, max=148.4131591025766\n",
      "monte carlo res = 148.45649063427012\n",
      "scipy integration result =  148.40642115557753\n",
      "error = 0.05006947869259193\n",
      "750001\n",
      "min=0.006737946999085467, max=148.4131591025766\n",
      "monte carlo res = 148.4715220188566\n",
      "scipy integration result =  148.40642115557753\n",
      "error = 0.06510086327907061\n",
      "750001\n",
      "min=0.006737946999085467, max=148.4131591025766\n",
      "monte carlo res = 148.33894579272592\n",
      "scipy integration result =  148.40642115557753\n",
      "error = 0.06747536285161004\n",
      "750001\n",
      "min=0.006737946999085467, max=148.4131591025766\n",
      "monte carlo res = 148.32707329486348\n",
      "scipy integration result =  148.40642115557753\n",
      "error = 0.07934786071405142\n"
     ]
    },
    {
     "data": {
      "text/plain": [
       "148.32707329486348"
      ]
     },
     "execution_count": 64,
     "metadata": {},
     "output_type": "execute_result"
    }
   ],
   "source": [
    "eps = 0.01\n",
    "monte_carlo(np.exp, -5, 5, 'std', eps, True)\n",
    "monte_carlo(np.exp, -5, 5, 'geo', eps, True)\n",
    "monte_carlo(np.exp, -5, 5, 'geo_sobol', eps, True)\n",
    "monte_carlo(np.exp, -5, 5, 'geo_sobol_shuffle', eps, True)"
   ]
  },
  {
   "cell_type": "code",
   "execution_count": 65,
   "id": "5332d114-b448-418e-b173-a2b5af942762",
   "metadata": {
    "tags": []
   },
   "outputs": [],
   "source": [
    "def my_sin(x):\n",
    "    return np.sin(x) + 1"
   ]
  },
  {
   "cell_type": "code",
   "execution_count": 66,
   "id": "483b8538-3932-433f-b46c-5aebb87a1678",
   "metadata": {
    "tags": []
   },
   "outputs": [
    {
     "name": "stdout",
     "output_type": "stream",
     "text": [
      "1267501\n",
      "min=4.05294107841403e-06, max=1.9998917427891376\n",
      "monte carlo res = 13.432842096986972\n",
      "scipy integration result =  13.42916221927184\n",
      "error = 0.0036798777151325623\n",
      "1267501\n",
      "min=4.05294107841403e-06, max=1.9998917427891376\n",
      "monte carlo res = 13.420179347724016\n",
      "scipy integration result =  13.42916221927184\n",
      "error = 0.008982871547823734\n",
      "1267501\n",
      "min=4.05294107841403e-06, max=1.9998917427891376\n",
      "monte carlo res = 13.4293480563607\n",
      "scipy integration result =  13.42916221927184\n",
      "error = 0.00018583708886055206\n",
      "1267501\n",
      "min=4.05294107841403e-06, max=1.9998917427891376\n",
      "monte carlo res = 13.428425032001302\n",
      "scipy integration result =  13.42916221927184\n",
      "error = 0.0007371872705377314\n"
     ]
    },
    {
     "data": {
      "text/plain": [
       "13.428425032001302"
      ]
     },
     "execution_count": 66,
     "metadata": {},
     "output_type": "execute_result"
    }
   ],
   "source": [
    "eps = 0.01\n",
    "monte_carlo(my_sin, -5, 8, 'std', eps, True)\n",
    "monte_carlo(my_sin, -5, 8, 'geo', eps, True)\n",
    "monte_carlo(my_sin, -5, 8, 'geo_sobol', eps, True)\n",
    "monte_carlo(my_sin, -5, 8, 'geo_sobol_shuffle', eps, True)"
   ]
  },
  {
   "cell_type": "code",
   "execution_count": 67,
   "id": "827a264a-f94d-4ec7-bde4-7d69a1e23b66",
   "metadata": {
    "tags": []
   },
   "outputs": [
    {
     "name": "stdout",
     "output_type": "stream",
     "text": [
      "187501\n",
      "min=1.0016659725114536, max=10.0\n",
      "monte carlo res = 16.67497738477716\n",
      "scipy integration result =  16.666666666666664\n",
      "error = 0.008310718110497106\n",
      "187501\n",
      "min=1.0016659725114536, max=10.0\n",
      "monte carlo res = 11.704970476447894\n",
      "scipy integration result =  16.666666666666664\n",
      "error = 4.96169619021877\n",
      "187501\n",
      "min=1.0016659725114536, max=10.0\n",
      "monte carlo res = 11.654340120348458\n",
      "scipy integration result =  16.666666666666664\n",
      "error = 5.0123265463182065\n",
      "187501\n",
      "min=1.0016659725114536, max=10.0\n",
      "monte carlo res = 11.6576994804688\n",
      "scipy integration result =  16.666666666666664\n",
      "error = 5.008967186197864\n"
     ]
    },
    {
     "data": {
      "text/plain": [
       "11.6576994804688"
      ]
     },
     "execution_count": 67,
     "metadata": {},
     "output_type": "execute_result"
    }
   ],
   "source": [
    "eps = 0.01\n",
    "monte_carlo(Polynomial([1, 0, 1]), -3, 2, 'std', eps, True)\n",
    "monte_carlo(Polynomial([1, 0, 1]), -3, 2, 'geo', eps, True)\n",
    "monte_carlo(Polynomial([1, 0, 1]), -3, 2, 'geo_sobol', eps, True)\n",
    "monte_carlo(Polynomial([1, 0, 1]), -3, 2, 'geo_sobol_shuffle', eps, True)"
   ]
  },
  {
   "cell_type": "code",
   "execution_count": null,
   "id": "cde6b1d5-244e-4c63-b0c5-34ed74e4e35b",
   "metadata": {},
   "outputs": [],
   "source": []
  }
 ],
 "metadata": {
  "kernelspec": {
   "display_name": "Python 3 (ipykernel)",
   "language": "python",
   "name": "python3"
  },
  "language_info": {
   "codemirror_mode": {
    "name": "ipython",
    "version": 3
   },
   "file_extension": ".py",
   "mimetype": "text/x-python",
   "name": "python",
   "nbconvert_exporter": "python",
   "pygments_lexer": "ipython3",
   "version": "3.11.4"
  }
 },
 "nbformat": 4,
 "nbformat_minor": 5
}
